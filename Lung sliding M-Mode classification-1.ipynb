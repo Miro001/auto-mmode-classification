{
 "cells": [
  {
   "cell_type": "code",
   "execution_count": 1,
   "metadata": {
    "collapsed": false,
    "jupyter": {
     "outputs_hidden": false
    },
    "pycharm": {
     "name": "#%%\n"
    }
   },
   "outputs": [],
   "source": [
    "import torch\n",
    "import torch.nn as nn\n",
    "import torch.nn.functional as F\n",
    "from tqdm.notebook import tqdm\n",
    "\n",
    "import numpy as np\n",
    "import matplotlib.pyplot as plt\n",
    "import torch\n",
    "import torchvision\n",
    "from torch.utils.data import DataLoader\n",
    "from early_stopping.pytorchtools import EarlyStopping\n",
    "from torch.utils import data\n",
    "from glob import glob\n",
    "import os as os\n",
    "from PIL import Image\n",
    "from sklearn.metrics import confusion_matrix,plot_confusion_matrix\n",
    "from skimage import io\n",
    "from sklearn import metrics\n",
    "\n",
    "%matplotlib inline\n",
    "device = torch.device('cuda:0' if torch.cuda.is_available() else 'cpu')\n",
    "\n",
    "\n",
    "plt.rcParams['text.color'] = 'w'\n",
    "plt.rcParams['xtick.color'] = 'w'\n",
    "plt.rcParams['ytick.color'] = 'w'\n",
    "plt.rcParams['axes.labelcolor'] = 'w'\n",
    "font = {'family' : 'DejaVu Sans',\n",
    "        'weight' : 'normal',\n",
    "        'size'   : 14}\n",
    "plt.rc('font', **font)"
   ]
  },
  {
   "cell_type": "code",
   "execution_count": 2,
   "metadata": {
    "pycharm": {
     "name": "#%%\n"
    },
    "tags": []
   },
   "outputs": [],
   "source": [
    "number_of_frames=16\n",
    "slice={16:(0,0,0), \n",
    "       32:(0,0,0),\n",
    "      64:(0,0,0),\n",
    "      128:(0,0,0),\n",
    "      256:(0,0,0)}\n",
    "\n",
    "class_dict = {0:\"LSP\",1:\"LSA\"}"
   ]
  },
  {
   "cell_type": "code",
   "execution_count": 3,
   "metadata": {
    "collapsed": false,
    "jupyter": {
     "outputs_hidden": false
    },
    "pycharm": {
     "name": "#%%\n"
    }
   },
   "outputs": [],
   "source": [
    "class MModeDataset(data.Dataset):\n",
    "\n",
    "    def __init__(self,\n",
    "                 root_fp='/media/miro/4tb_cached/usg_data/base_dataset/mmode/',\n",
    "                 transform=None,\n",
    "                 number_of_frames=32):\n",
    "        super(MModeDataset, self).__init__()\n",
    "        self.transform = transform\n",
    "\n",
    "        flow_fp = os.path.join(root_fp, \"{:d}\".format(number_of_frames))\n",
    "        self.image_list = sorted(glob(os.path.join(flow_fp, '*/*/*.png')))\n",
    "        self.classes = np.zeros((len(self.image_list)))\n",
    "        self.identifiers = list()\n",
    "        self.sample_identifiers = list()\n",
    "        self.data = list()\n",
    "        for idx, fp in enumerate(tqdm(self.image_list)):\n",
    "            if \"lung_sliding_absence\" in self.image_list[idx]:\n",
    "                self.classes[idx] = 1\n",
    "            self.identifiers += [os.path.dirname(self.image_list[idx])]\n",
    "            self.sample_identifiers += [os.path.basename(self.image_list[idx])]\n",
    "            #self.data += [Image.open(self.image_list[idx])]            \n",
    "            self.data += [io.imread(self.image_list[idx])]\n",
    "\n",
    "    def __getitem__(self, index):\n",
    "        img = self.data[index]\n",
    "        if self.transform:\n",
    "            img = self.transform(img)\n",
    "\n",
    "        return img, self.classes[index], self.identifiers[index], self.sample_identifiers[index]\n",
    "\n",
    "    def __len__(self):\n",
    "        return len(self.image_list)"
   ]
  },
  {
   "cell_type": "code",
   "execution_count": 4,
   "metadata": {
    "collapsed": false,
    "jupyter": {
     "outputs_hidden": false
    },
    "pycharm": {
     "name": "#%%\n"
    }
   },
   "outputs": [],
   "source": [
    "class DataGenDataset(data.Dataset):\n",
    "\n",
    "    def __init__(self,\n",
    "                 root_fp='/media/miro/4tb_cached/usg_data/base_dataset/',\n",
    "                 mask_dir_name=\"lung_mask_ce\",\n",
    "                 transform=None,\n",
    "                 number_of_frames=32,\n",
    "                 step = 16,\n",
    "                 load2ram = False):\n",
    "        super(DataGenDataset, self).__init__()\n",
    "        self.transform = transform\n",
    "        self.number_of_frames = number_of_frames\n",
    "        self.step = step\n",
    "\n",
    "        self.image_list = sorted(glob(os.path.join(root_fp, 'frames/*/*/*.png')))\n",
    "        self.lung_mask_list = [fp.replace(\"/frames/\",\"/lung_mask_ce/\") for fp in self.image_list]\n",
    "        self.pleura_mask_list = [fp.replace(\"/frames/\",\"/pleura_mask_ce/\") for fp in self.image_list]\n",
    "        self.rib_mask_list = [fp.replace(\"/frames/\",\"/rib_mask_ce/\") for fp in self.image_list]\n",
    "\n",
    "        self.classes, self.identifiers, self.frame_list, self.data, self.mask_data = \\\n",
    "            dict(), list(), list(), dict(), dict()\n",
    "\n",
    "        nos = len(self.image_list)\n",
    "        idx = 0\n",
    "        while idx < nos:\n",
    "            if idx + self.number_of_frames < nos:\n",
    "                if os.path.dirname(self.image_list[idx]) in os.path.dirname(self.image_list[idx + self.number_of_frames]):\n",
    "                    self.frame_list += [self.image_list[idx:idx + self.number_of_frames]]\n",
    "                    self.identifiers += [os.path.dirname(self.image_list[idx])]\n",
    "            idx = idx+self.step\n",
    "\n",
    "        for idx in tqdm(range(nos)):\n",
    "            if \"lung_sliding_absence\" in self.image_list[idx]:\n",
    "                self.classes[self.image_list[idx]] = 1\n",
    "            else:\n",
    "                self.classes[self.image_list[idx]] =  0\n",
    "\n",
    "            if load2ram:\n",
    "                self.data[self.image_list[idx]] = io.imread(self.image_list[idx])\n",
    "                #self.mask_data[self.image_list[idx]] = io.imread(self.mask_list[idx])\n",
    "            else:\n",
    "                self.data[self.image_list[idx]] = Image.open(self.image_list[idx])\n",
    "                #self.mask_data[self.image_list[idx]] = Image.open(self.mask_list[idx])\n",
    "\n",
    "\n",
    "    def __getitem__(self, index):\n",
    "        frames = self.frame_list[index]\n",
    "\n",
    "        img = np.zeros((self.number_of_frames,480,480))\n",
    "        for idx, frame in enumerate(frames):\n",
    "            img[idx,:,:] = np.array(self.data[frame])\n",
    "\n",
    "        mask_lung =  io.imread(frames[0].replace(\"/frames/\",\"/lung_mask_ce/\"))\n",
    "        mask_pleura =  io.imread(frames[0].replace(\"/frames/\",\"/pleura_mask_ce/\"))\n",
    "        mask_rib =  io.imread(frames[0].replace(\"/frames/\",\"/rib_mask_ce/\"))\n",
    "\n",
    "        if self.transform:\n",
    "            img = self.transform(img)\n",
    "\n",
    "        return img,self.identifiers[index], mask_lung,mask_pleura,mask_rib, self.classes[frames[0]]\n",
    "\n",
    "    def __len__(self):\n",
    "        return len(self.frame_list)\n",
    "    \n",
    "    def get_identifier_sequence(self, keys):\n",
    "        indices = list()\n",
    "        for key in keys:\n",
    "            indices.extend([idx for idx,identifier in enumerate(self.identifiers) if key in identifier])\n",
    "        return indices\n",
    "        \n",
    "    def get_class_vector(self, indices):\n",
    "        im_classes = []\n",
    "        for index in indices:\n",
    "            if \"lung_sliding_absence\" in self.image_list[index]:\n",
    "                im_classes += [1]\n",
    "            else:\n",
    "                im_classes += [0]\n",
    "        return np.array(im_classes)    "
   ]
  },
  {
   "cell_type": "code",
   "execution_count": 5,
   "metadata": {
    "collapsed": false,
    "jupyter": {
     "outputs_hidden": false
    },
    "pycharm": {
     "is_executing": true,
     "name": "#%%\n"
    }
   },
   "outputs": [
    {
     "data": {
      "application/vnd.jupyter.widget-view+json": {
       "model_id": "f4ed20bdfde94c0cae0c48be950ec03e",
       "version_major": 2,
       "version_minor": 0
      },
      "text/plain": [
       "  0%|          | 0/94454 [00:00<?, ?it/s]"
      ]
     },
     "metadata": {},
     "output_type": "display_data"
    },
    {
     "data": {
      "image/png": "[encoded data removed]",
      "text/plain": [
       "<Figure size 1440x1440 with 16 Axes>"
      ]
     },
     "metadata": {
      "needs_background": "dark"
     },
     "output_type": "display_data"
    }
   ],
   "source": [
    "class Gray2Rgb(torch.nn.Module):\n",
    "    def __init__(self):\n",
    "        super().__init__()\n",
    "\n",
    "    def forward(self, img):\n",
    "        return torch.cat((img, img, img),dim=0)\n",
    "\n",
    "min_transform =torchvision.transforms.Compose([\n",
    "                                    #torchvision.transforms.Resize((256,256)),\n",
    "                                    torchvision.transforms.ToTensor(),\n",
    "                                    Gray2Rgb()\n",
    "                                    ])\n",
    "transform = torchvision.transforms.Compose([\n",
    "                                    #torchvision.transforms.Resize((480,256)),\n",
    "                                    torchvision.transforms.ToTensor(),\n",
    "                                    torchvision.transforms.RandomAffine(0,(0.1,0.2),(0.8,1.25)),\n",
    "                                    torchvision.transforms.RandomErasing(),\n",
    "                                    Gray2Rgb()\n",
    "                                    ])\n",
    "\n",
    "dataset = MModeDataset(root_fp =\"/home/jin/Documents/miro/data/base_dataset/mmode\",number_of_frames=128,transform=transform)\n",
    "fig, axs = plt.subplots(4, 4,figsize=(20,20))\n",
    "sample = np.random.randint(0,len(dataset),64)\n",
    "\n",
    "for i in range(16):\n",
    "    img, target, _, _ = dataset.__getitem__(sample[i])\n",
    "    img = img.permute(1,2,0)\n",
    "    axs[i//4,i%4].imshow(img)\n",
    "    axs[i//4,i%4].set_title(\"{} min: {:.2f} max: {:.2f}\".format(class_dict[int(target)],torch.min(img),torch.max(img)))"
   ]
  },
  {
   "cell_type": "code",
   "execution_count": 6,
   "metadata": {
    "collapsed": false,
    "jupyter": {
     "outputs_hidden": false
    },
    "pycharm": {
     "is_executing": true,
     "name": "#%%\n"
    }
   },
   "outputs": [],
   "source": [
    "import pandas as pd\n",
    "from skimage.measure import label, regionprops_table\n",
    "from skimage.morphology import binary_opening,rectangle\n",
    "import skimage as sk\n",
    "\n",
    "def return_slice_coords(mask_lung,mask_pleura,mask_rib,ideal_slice=(0,0,0)):\n",
    "    new_slice_lung,new_slice_pleura,new_slice_rib = 240,240,240\n",
    "\n",
    "    im  = binary_opening(sk.transform.resize(mask_lung,(480,480)),rectangle(5,5))\n",
    "    label_image = label(im)\n",
    "    regions = regionprops_table(label_image,properties=('label','area','centroid'))\n",
    "    if np.max(label_image)>0:\n",
    "        x_centroid = regions['centroid-1'][0]\n",
    "        if x_centroid + ideal_slice[1] < 480:\n",
    "            new_slice_lung =x_centroid + ideal_slice[1]\n",
    "        else:\n",
    "            new_slice_lung = x_centroid\n",
    "\n",
    "    im  = binary_opening(sk.transform.resize(mask_pleura,(480,480)),rectangle(5,5))\n",
    "    label_image = label(im)\n",
    "    if np.max(label_image)>0:\n",
    "        regions = regionprops_table(label_image,properties=('label','area','centroid'))\n",
    "        x_centroid = regions['centroid-1'][0]\n",
    "        if x_centroid + ideal_slice[1] <480:\n",
    "            new_slice_pleura =x_centroid + ideal_slice[1]\n",
    "        else:\n",
    "            new_slice_pleura = x_centroid\n",
    "\n",
    "    im  = binary_opening(sk.transform.resize(mask_rib,(480,480)),rectangle(5,5))\n",
    "    label_image = label(im)\n",
    "    if np.max(label_image)>0:\n",
    "        regions = regionprops_table(label_image,properties=('label','area','centroid'))\n",
    "        if np.max(label_image)>1:\n",
    "            df = pd.DataFrame(regions)\n",
    "            x=0\n",
    "            for zz in range(2):\n",
    "                index = df['area'].idxmax()\n",
    "                x_centroid = df['centroid-1'][index]\n",
    "                x= x+x_centroid\n",
    "                df = df.drop(labels=index, axis=0)\n",
    "            x_centroid= x/2\n",
    "            if x_centroid + ideal_slice[1] <480:\n",
    "                new_slice_rib =x_centroid + ideal_slice[2]\n",
    "            else:\n",
    "                new_slice_rib = x_centroid\n",
    "\n",
    "    return new_slice_lung,new_slice_pleura,new_slice_rib\n",
    "\n",
    "def random_split_by_unique_identifier(dataset, split, number_of_frames):\n",
    "    df = pd.DataFrame((dataset.identifiers))\n",
    "    identifiers = df[0].to_numpy()\n",
    "    unique_identifiers = np.unique(identifiers)\n",
    "    samples_count = len(unique_identifiers)\n",
    "    random_samp = np.random.permutation(np.arange(0,samples_count,1))\n",
    "\n",
    "    split_one_end = int(split[0]*samples_count)\n",
    "    split_two_end = split_one_end+int(split[1]*samples_count)\n",
    "    random_split_1 = random_samp[0:split_one_end]\n",
    "    random_split_2 = random_samp[split_one_end:split_two_end]\n",
    "    random_split_3 = random_samp[split_two_end:]\n",
    "    \n",
    "    f = open(\"split_\"+str(number_of_frames)+\".txt\", \"w\")\n",
    "\n",
    "    random_splits =  [random_split_1,random_split_2,random_split_3]\n",
    "    \n",
    "    for i, random_split in enumerate(random_splits):\n",
    "        indices= list()\n",
    "        \n",
    "        for idx in random_split:\n",
    "            rows = unique_identifiers[idx] == df.iloc[:,0]\n",
    "            matched_indices =np.where(rows.to_numpy())[0]\n",
    "            indices.extend(matched_indices)\n",
    "            \n",
    "            f.write(unique_identifiers[idx].split('/')[-1]+\"\\n\")\n",
    "        if i==0:\n",
    "            f.write(\"\\n\")\n",
    "            train_ds = data.Subset(dataset,np.random.permutation(indices))\n",
    "        elif i==1:\n",
    "            f.write(\"\\n\")\n",
    "            valid_ds = data.Subset(dataset,np.random.permutation(indices))\n",
    "        else:\n",
    "            f.write(\"\\n\")\n",
    "            test_ds= data.Subset(dataset,np.random.permutation(indices))\n",
    "    f.close()\n",
    "    return train_ds, valid_ds, test_ds\n",
    "\n",
    "from sklearn.model_selection import KFold\n",
    "\n",
    "def create_K_fold_unqique_idents(dataset, training2valid_ratio=0.5, K=4):\n",
    "    df = pd.DataFrame((dataset.identifiers))\n",
    "    identifiers = df[0].to_numpy()\n",
    "    unique_identifiers = np.unique(identifiers)\n",
    "    samples_count = len(unique_identifiers)\n",
    "\n",
    "    random_samp = np.random.permutation(np.arange(0,samples_count,1))\n",
    "\n",
    "    kf = KFold(n_splits=K)\n",
    "    train_indices = []\n",
    "    valid_indices = []\n",
    "    test_indices = []\n",
    "    test_ids = []\n",
    "    \n",
    "    for train_index, test_index in kf.split(random_samp):\n",
    "        split = int(len(train_index)*training2valid_ratio)\n",
    "        train_indices.append(random_samp[train_index[0:split]])\n",
    "        valid_indices.append(random_samp[train_index[split:len(train_index)]])\n",
    "        test_indices.append(random_samp[test_index])\n",
    "        test_ids.append(unique_identifiers[random_samp[test_index]])\n",
    "\n",
    "    return np.array([train_indices,valid_indices,test_indices],dtype=object), test_ids\n",
    "\n",
    "def evaluate_on_slices_with_correction(model,dataset,test_identifiers,correction):\n",
    "    y_gts = list()\n",
    "    y_preds = list()\n",
    "    identifiers = list()\n",
    "    for idx in tqdm(dataset.get_identifier_sequence(test_identifiers)):\n",
    "        img,identifier, mask_lung,mask_pleura,mask_rib,y = dataset.__getitem__(idx)\n",
    "        new_slice_lung,new_slice_pleura,new_slice_rib = return_slice_coords(mask_lung,mask_pleura,mask_rib,ideal_slice=correction)\n",
    "        im =torch.tensor(img[:,:,[int(new_slice_lung),int(new_slice_pleura),int(new_slice_rib)]],dtype=torch.float32).permute(2,1,0)\n",
    "        input_data = torch.stack((im,im,im),1).cuda(device)/255\n",
    "        out =  model(input_data)\n",
    "        _,y_pred = torch.max(out,1)\n",
    "        y_gts.extend(np.repeat(y,3))\n",
    "        y_preds.extend(y_pred.detach().cpu().numpy())\n",
    "        identifiers.extend([identifier,identifier,identifier])\n",
    "    return identifiers, y_gts, y_preds\n",
    "\n",
    "\n",
    "def create_subsets_for_K(dataset, splits, K_n):\n",
    "    random_splits = splits[:,K_n]\n",
    "    df = pd.DataFrame((dataset.identifiers))\n",
    "    identifiers = df[0].to_numpy()\n",
    "    unique_identifiers = np.unique(identifiers)\n",
    "\n",
    "    for i, random_split in enumerate(random_splits):\n",
    "        indices= list()\n",
    "        for idx in random_split:\n",
    "            if idx < len(unique_identifiers):\n",
    "                rows = unique_identifiers[idx] == df.iloc[:,0]\n",
    "                matched_indices = np.where(rows.to_numpy())[0]\n",
    "                indices.extend(matched_indices)\n",
    "        if i==0:\n",
    "            train_ds = data.Subset(dataset,np.random.permutation(indices))\n",
    "        elif i==1:\n",
    "            valid_ds = data.Subset(dataset,np.random.permutation(indices))\n",
    "        else:\n",
    "            test_ds= data.Subset(dataset,np.random.permutation(indices))\n",
    "    return train_ds, valid_ds, test_ds\n",
    "\n",
    "def return_ids_from_filepaths(test_id):\n",
    "    return [fp.split('/')[-1] for fp in test_id]"
   ]
  },
  {
   "cell_type": "code",
   "execution_count": 7,
   "metadata": {
    "collapsed": false,
    "jupyter": {
     "outputs_hidden": false
    },
    "pycharm": {
     "is_executing": true,
     "name": "#%%\n"
    }
   },
   "outputs": [],
   "source": [
    "batch_size =  64\n",
    "splits, test_ids = create_K_fold_unqique_idents(dataset=dataset,training2valid_ratio=0.6, K=4)\n",
    "train_ds, valid_ds, test_ds = create_subsets_for_K(dataset,splits,K_n=0)\n",
    "\n",
    "train_loader = DataLoader(train_ds, batch_size=batch_size, shuffle=True)\n",
    "valid_loader = DataLoader(valid_ds, batch_size=batch_size, shuffle=False)\n",
    "test_loader = DataLoader(test_ds, batch_size=batch_size, shuffle=False)"
   ]
  },
  {
   "cell_type": "code",
   "execution_count": 8,
   "metadata": {
    "collapsed": false,
    "jupyter": {
     "outputs_hidden": false
    },
    "pycharm": {
     "is_executing": true,
     "name": "#%%\n"
    }
   },
   "outputs": [],
   "source": [
    "def train(model, n_epochs,train_loader,valid_loader,criterion,optimizer,scheduler=None,early_stop_count=0,identifier = \"net.pth\"):\n",
    "    batch_train_losses = []\n",
    "    avg_train_losses = []\n",
    "    \n",
    "    avg_valid_acc = []\n",
    "    batch_valid_losses = []\n",
    "    avg_valid_losses = []\n",
    "\n",
    "    early_stopping = EarlyStopping(patience=early_stop_count, verbose=True, path=identifier)\n",
    "\n",
    "    for epoch in range(1, n_epochs + 1):\n",
    "        train_losses = []\n",
    "        valid_losses = []\n",
    "        valid_accs = []\n",
    "\n",
    "        model.train() # prep model for training\n",
    "        for input_data, classes,_,_ in tqdm(train_loader):\n",
    "            data = input_data.to(device)\n",
    "            target = classes.long().to(device)\n",
    "\n",
    "            optimizer.zero_grad()\n",
    "            output = model(data)\n",
    "            loss = criterion(output, target)\n",
    "            loss.backward()\n",
    "            optimizer.step()\n",
    "            train_losses.append(loss.item())\n",
    "\n",
    "        model.eval()\n",
    "        with torch.no_grad():\n",
    "            for input_data, classes,_,_ in tqdm(valid_loader):\n",
    "                data = input_data.to(device)\n",
    "                target = classes.long().to(device)\n",
    "\n",
    "                output = model(data)\n",
    "                loss = criterion(output, target)\n",
    "                valid_losses.append(loss.item())\n",
    "\n",
    "                _, pred = torch.max(output, 1)\n",
    "\n",
    "                valid_accs.append(np.sum(target.cpu().numpy() == pred.cpu().numpy()) / pred.shape[0])\n",
    "\n",
    "\n",
    "\n",
    "        train_loss = np.average(train_losses)\n",
    "        valid_loss = np.average(valid_losses)\n",
    "        valid_acc = np.average(valid_accs)\n",
    "\n",
    "        if scheduler:\n",
    "            scheduler.step()\n",
    "\n",
    "        avg_valid_acc.append(valid_acc)\n",
    "        batch_train_losses.extend(train_losses)\n",
    "        batch_valid_losses.extend(valid_losses)\n",
    "        avg_valid_losses.append(valid_loss)\n",
    "        avg_train_losses.append(train_loss)\n",
    "        \n",
    "        epoch_len = len(str(n_epochs))\n",
    "\n",
    "        print_msg = (f'[{epoch:>{epoch_len}}/{n_epochs:>{epoch_len}}] ' +\n",
    "                     f'train_loss: {train_loss:.5f} ' +\n",
    "                     f'valid_loss: {valid_loss:.5f} '\n",
    "                     f'valid_acc: {valid_acc*100:2.2f} %')\n",
    "        if scheduler:\n",
    "            print_msg = print_msg + \" lr: {:.5f}\".format(scheduler.get_last_lr()[0])\n",
    "        print(print_msg)\n",
    "\n",
    "        if early_stop_count:\n",
    "            early_stopping(valid_loss, model)\n",
    "\n",
    "            if early_stopping.early_stop:\n",
    "                model.load_state_dict(torch.load(identifier))\n",
    "                print(\"Early stopping\")\n",
    "                break\n",
    "    if early_stop_count:    \n",
    "        model.load_state_dict(torch.load(identifier))\n",
    "        \n",
    "    return avg_train_losses, avg_valid_losses, batch_train_losses, batch_valid_losses, model"
   ]
  },
  {
   "cell_type": "code",
   "execution_count": 9,
   "metadata": {
    "collapsed": false,
    "jupyter": {
     "outputs_hidden": false
    },
    "pycharm": {
     "is_executing": true,
     "name": "#%%\n"
    }
   },
   "outputs": [],
   "source": [
    "from scipy.interpolate import interp1d\n",
    "from sklearn import metrics\n",
    "import pandas as pd\n",
    "\n",
    " \n",
    "def return_string_metrics(y_true,y_pred):\n",
    "\n",
    "    tn, fp, fn, tp  = confusion_matrix(y_true,y_pred).ravel()\n",
    "\n",
    "    acc = metrics.accuracy_score(y_true,y_pred)\n",
    "    bal_acc = metrics.balanced_accuracy_score(y_true, y_pred)\n",
    "    f1 = metrics.f1_score(y_true, y_pred)\n",
    "    precision = metrics.precision_score(y_true, y_pred)\n",
    "    recall = metrics.recall_score(y_true, y_pred)\n",
    "    spec = tn/(tn+fp)\n",
    "    return \"{}\\t{}\\t{}\\t{}\\t{:.4f}\\t{:.4f}\\t{:.4f}\\t{:.4f}\\t{:.4f}\\t{:.4f}\\t\".format(tp,fp,fn,tn,acc, bal_acc, f1, precision, recall,spec)\n",
    "\n",
    "def return_aggregated_metrics(identifiers_list,y_true,y_pred):\n",
    "    df = pd.DataFrame((identifiers_list,y_true,y_pred))\n",
    "    df = df.T\n",
    "    identifiers = df[0].to_numpy()\n",
    "    unique_identifiers = np.unique(identifiers)\n",
    "    y_gt = df[1].to_numpy()\n",
    "    y_pred = df[2].to_numpy()\n",
    "\n",
    "    acc_stack = []\n",
    "    lsp_acc_stack = []\n",
    "    lsa_acc_stack = []\n",
    "    nos_stack = []\n",
    "    for unique_identifier in unique_identifiers:\n",
    "        rows = unique_identifier == identifiers\n",
    "        sample_gt = y_gt[rows]\n",
    "        sample_pred = y_pred[rows]\n",
    "\n",
    "        acc = np.sum(sample_gt==sample_pred)/len(sample_gt)\n",
    "        nos = len(sample_gt)\n",
    "\n",
    "        nos_stack+=[nos]\n",
    "        acc_stack+=[acc]\n",
    "        if np.sum(sample_gt) == 0:\n",
    "            lsp_acc_stack+=[acc]\n",
    "        else:\n",
    "            lsa_acc_stack+=[acc]\n",
    "\n",
    "        #print(str(len(sample_gt)) +\" \" + \"{:.2f}\".format(acc) +\" \"+ str(acc>0.5) +\" \"+ str(acc>0.75)+\" \"+ str(acc>0.9))\n",
    "    acc_stack = np.array(acc_stack)\n",
    "\n",
    "    nos_avg = np.sum(nos_stack)/len(nos_stack)\n",
    "    acc_50 = np.sum(acc_stack>0.5)/len(acc_stack)\n",
    "    acc_75 = np.sum(acc_stack>0.75)/len(acc_stack)\n",
    "    acc_90 = np.sum(acc_stack>0.9)/len(acc_stack)\n",
    "    \n",
    "    y_gt_data = []\n",
    "    y_pred_data = []\n",
    "\n",
    "    y_gt_data.extend(np.zeros((len(lsp_acc_stack),)))\n",
    "    y_pred_data.extend(np.array(lsp_acc_stack)<0.5)\n",
    "\n",
    "    y_gt_data.extend(np.ones((len(lsa_acc_stack),)))\n",
    "    y_pred_data.extend(np.array(lsa_acc_stack)>=0.5)\n",
    "        \n",
    "    #plt.boxplot((lsp_acc_stack,lsa_acc_stack),labels=(\"Lung sliding presence\", \"Lung sliding absence\"))\n",
    "    \n",
    "    return \"{:.4f}\\t{:.4f}\\t{:.4f}\\t{}\".format(acc_50,acc_75,acc_90,return_string_metrics(y_gt_data, y_pred_data))\n",
    "\n",
    "def get_test_output(model, test_loader,identifier=\"\"):\n",
    "    y_gts = np.array([])\n",
    "    y_preds = np.array([])\n",
    "    identifiers = list()\n",
    "    model.eval()\n",
    "    f = open(\"test_results_\"+identifier+\".txt\", \"w\")\n",
    "    with torch.no_grad():\n",
    "        for input_data, classes,identifier,sample_identifiers in tqdm(test_loader):\n",
    "            x = input_data.to(device)\n",
    "            y = classes.long().to(device)\n",
    "            output = model(x)\n",
    "            _, pred = torch.max(output, 1)\n",
    "        \n",
    "            y_gts = np.hstack((y_gts, y.cpu().numpy()))\n",
    "            y_preds = np.hstack((y_preds, pred.cpu().numpy()))\n",
    "            identifiers.extend(identifier)\n",
    "            for  ident, sample_identifier,y_gt, y_pred in zip(identifier,sample_identifiers,y.cpu().numpy(),pred.cpu().numpy()):\n",
    "                f.write(\"{} {} {} {}\\n\".format(ident,sample_identifier,y_gt,y_pred))\n",
    "\n",
    "    f.close()        \n",
    "    return  identifiers,y_gts,y_preds\n",
    "\n",
    "def visualize_loss(avg_valid_losses,avg_train_losses):\n",
    "    plt.figure()\n",
    "\n",
    "    xx = np.arange(0,len(avg_valid_losses),1)\n",
    "    xx2 = np.arange(0,len(avg_train_losses),1)\n",
    "\n",
    "    y_valid = np.array(avg_valid_losses)\n",
    "    y_train =  np.array(avg_train_losses)\n",
    "\n",
    "    f_valid = interp1d(xx, y_valid)\n",
    "    f_train = interp1d(xx2, y_train)\n",
    "    if len(avg_valid_losses) < len(avg_train_losses):\n",
    "        plt.plot(xx, f_valid(xx))\n",
    "        plt.plot(xx, f_train(xx),color='red')\n",
    "    else:\n",
    "        plt.plot(xx2, f_valid(xx2))\n",
    "        plt.plot(xx2, f_train(xx2),color='red')\n",
    "    plt.legend((\"Validation Loss\",\"Training Loss\"),labelcolor='black')\n",
    "    plt.xlabel(\"Batches\")\n",
    "    plt.ylabel(\"Loss Value\")\n",
    "    plt.title(\"Loss of validation and training set\")\n",
    "    plt.show()"
   ]
  },
  {
   "cell_type": "code",
   "execution_count": 10,
   "metadata": {
    "collapsed": false,
    "jupyter": {
     "outputs_hidden": false
    },
    "pycharm": {
     "is_executing": true,
     "name": "#%%\n"
    }
   },
   "outputs": [],
   "source": [
    "from prettytable import PrettyTable\n",
    "\n",
    "def count_parameters(model):\n",
    "    table = PrettyTable([\"Modules\", \"Parameters\"])\n",
    "    total_params = 0\n",
    "    for name, parameter in model.named_parameters():\n",
    "        if not parameter.requires_grad: continue\n",
    "        param = parameter.numel()\n",
    "        table.add_row([name, param])\n",
    "        total_params+=param\n",
    "    print(table)\n",
    "    print(f\"Total Trainable Params: {total_params}\")\n",
    "    return total_params"
   ]
  },
  {
   "cell_type": "code",
   "execution_count": 11,
   "metadata": {},
   "outputs": [
    {
     "data": {
      "text/plain": [
       "'1.8.1+cu111'"
      ]
     },
     "execution_count": 11,
     "metadata": {},
     "output_type": "execute_result"
    }
   ],
   "source": [
    "torch.__version__"
   ]
  },
  {
   "cell_type": "code",
   "execution_count": 12,
   "metadata": {
    "collapsed": false,
    "jupyter": {
     "outputs_hidden": false
    },
    "pycharm": {
     "is_executing": true,
     "name": "#%%\n"
    }
   },
   "outputs": [
    {
     "name": "stdout",
     "output_type": "stream",
     "text": [
      "----------------------------------------------------------------\n",
      "        Layer (type)               Output Shape         Param #\n",
      "================================================================\n",
      "            Conv2d-1          [-1, 64, 240, 64]           9,408\n",
      "       BatchNorm2d-2          [-1, 64, 240, 64]             128\n",
      "              ReLU-3          [-1, 64, 240, 64]               0\n",
      "         MaxPool2d-4          [-1, 64, 120, 32]               0\n",
      "            Conv2d-5          [-1, 64, 120, 32]          36,864\n",
      "       BatchNorm2d-6          [-1, 64, 120, 32]             128\n",
      "              ReLU-7          [-1, 64, 120, 32]               0\n",
      "            Conv2d-8          [-1, 64, 120, 32]          36,864\n",
      "       BatchNorm2d-9          [-1, 64, 120, 32]             128\n",
      "             ReLU-10          [-1, 64, 120, 32]               0\n",
      "       BasicBlock-11          [-1, 64, 120, 32]               0\n",
      "           Conv2d-12          [-1, 64, 120, 32]          36,864\n",
      "      BatchNorm2d-13          [-1, 64, 120, 32]             128\n",
      "             ReLU-14          [-1, 64, 120, 32]               0\n",
      "           Conv2d-15          [-1, 64, 120, 32]          36,864\n",
      "      BatchNorm2d-16          [-1, 64, 120, 32]             128\n",
      "             ReLU-17          [-1, 64, 120, 32]               0\n",
      "       BasicBlock-18          [-1, 64, 120, 32]               0\n",
      "           Conv2d-19          [-1, 128, 60, 16]          73,728\n",
      "      BatchNorm2d-20          [-1, 128, 60, 16]             256\n",
      "             ReLU-21          [-1, 128, 60, 16]               0\n",
      "           Conv2d-22          [-1, 128, 60, 16]         147,456\n",
      "      BatchNorm2d-23          [-1, 128, 60, 16]             256\n",
      "           Conv2d-24          [-1, 128, 60, 16]           8,192\n",
      "      BatchNorm2d-25          [-1, 128, 60, 16]             256\n",
      "             ReLU-26          [-1, 128, 60, 16]               0\n",
      "       BasicBlock-27          [-1, 128, 60, 16]               0\n",
      "           Conv2d-28          [-1, 128, 60, 16]         147,456\n",
      "      BatchNorm2d-29          [-1, 128, 60, 16]             256\n",
      "             ReLU-30          [-1, 128, 60, 16]               0\n",
      "           Conv2d-31          [-1, 128, 60, 16]         147,456\n",
      "      BatchNorm2d-32          [-1, 128, 60, 16]             256\n",
      "             ReLU-33          [-1, 128, 60, 16]               0\n",
      "       BasicBlock-34          [-1, 128, 60, 16]               0\n",
      "           Conv2d-35           [-1, 256, 30, 8]         294,912\n",
      "      BatchNorm2d-36           [-1, 256, 30, 8]             512\n",
      "             ReLU-37           [-1, 256, 30, 8]               0\n",
      "           Conv2d-38           [-1, 256, 30, 8]         589,824\n",
      "      BatchNorm2d-39           [-1, 256, 30, 8]             512\n",
      "           Conv2d-40           [-1, 256, 30, 8]          32,768\n",
      "      BatchNorm2d-41           [-1, 256, 30, 8]             512\n",
      "             ReLU-42           [-1, 256, 30, 8]               0\n",
      "       BasicBlock-43           [-1, 256, 30, 8]               0\n",
      "           Conv2d-44           [-1, 256, 30, 8]         589,824\n",
      "      BatchNorm2d-45           [-1, 256, 30, 8]             512\n",
      "             ReLU-46           [-1, 256, 30, 8]               0\n",
      "           Conv2d-47           [-1, 256, 30, 8]         589,824\n",
      "      BatchNorm2d-48           [-1, 256, 30, 8]             512\n",
      "             ReLU-49           [-1, 256, 30, 8]               0\n",
      "       BasicBlock-50           [-1, 256, 30, 8]               0\n",
      "           Conv2d-51           [-1, 512, 15, 4]       1,179,648\n",
      "      BatchNorm2d-52           [-1, 512, 15, 4]           1,024\n",
      "             ReLU-53           [-1, 512, 15, 4]               0\n",
      "           Conv2d-54           [-1, 512, 15, 4]       2,359,296\n",
      "      BatchNorm2d-55           [-1, 512, 15, 4]           1,024\n",
      "           Conv2d-56           [-1, 512, 15, 4]         131,072\n",
      "      BatchNorm2d-57           [-1, 512, 15, 4]           1,024\n",
      "             ReLU-58           [-1, 512, 15, 4]               0\n",
      "       BasicBlock-59           [-1, 512, 15, 4]               0\n",
      "           Conv2d-60           [-1, 512, 15, 4]       2,359,296\n",
      "      BatchNorm2d-61           [-1, 512, 15, 4]           1,024\n",
      "             ReLU-62           [-1, 512, 15, 4]               0\n",
      "           Conv2d-63           [-1, 512, 15, 4]       2,359,296\n",
      "      BatchNorm2d-64           [-1, 512, 15, 4]           1,024\n",
      "             ReLU-65           [-1, 512, 15, 4]               0\n",
      "       BasicBlock-66           [-1, 512, 15, 4]               0\n",
      "AdaptiveAvgPool2d-67            [-1, 512, 1, 1]               0\n",
      "          Dropout-68                  [-1, 512]               0\n",
      "           Linear-69                    [-1, 2]           1,026\n",
      "================================================================\n",
      "Total params: 11,177,538\n",
      "Trainable params: 11,177,538\n",
      "Non-trainable params: 0\n",
      "----------------------------------------------------------------\n",
      "Input size (MB): 0.70\n",
      "Forward/backward pass size (MB): 76.88\n",
      "Params size (MB): 42.64\n",
      "Estimated Total Size (MB): 120.22\n",
      "----------------------------------------------------------------\n",
      "torch.Size([64, 2])\n"
     ]
    }
   ],
   "source": [
    "from torchsummary import summary\n",
    "model = torchvision.models.resnet18(pretrained=True)\n",
    "num_ftrs = model.fc.in_features\n",
    "\n",
    "model.fc = nn.Sequential(\n",
    "    nn.Dropout(0.5),\n",
    "    nn.Linear(num_ftrs, 2)\n",
    ")\n",
    "\n",
    "#model = Net()\n",
    "model = model.cuda(device)\n",
    "#model = nn.DataParallel(model, device_ids=None)\n",
    "\n",
    "optimizer = torch.optim.Adam(model.parameters(),\n",
    "                         lr=0.001)\n",
    "\n",
    "summary(model,input_size=(3,480,128))\n",
    "\n",
    "input_data,_,_,_ = next(iter(train_loader))\n",
    "output = model(input_data.cuda(device))\n",
    "print(output.shape)"
   ]
  },
  {
   "cell_type": "code",
   "execution_count": 13,
   "metadata": {
    "collapsed": false,
    "jupyter": {
     "outputs_hidden": false
    },
    "pycharm": {
     "is_executing": true,
     "name": "#%%\n"
    }
   },
   "outputs": [],
   "source": [
    "def extract_weights(counts, device):\n",
    "    weights = np.sum(counts)/ (counts.shape[0] * counts)\n",
    "    return torch.tensor(weights,dtype=torch.float).to(device)"
   ]
  },
  {
   "cell_type": "code",
   "execution_count": 14,
   "metadata": {
    "collapsed": false,
    "jupyter": {
     "outputs_hidden": false
    },
    "pycharm": {
     "is_executing": true,
     "name": "#%%\n"
    }
   },
   "outputs": [
    {
     "name": "stdout",
     "output_type": "stream",
     "text": [
      "Weights are:  tensor([0.3140, 0.6860], device='cuda:0')\n"
     ]
    },
    {
     "data": {
      "text/plain": [
       "Text(0.5, 1.0, 'Class Distribution')"
      ]
     },
     "execution_count": 14,
     "metadata": {},
     "output_type": "execute_result"
    },
    {
     "data": {
      "image/png": "[encoded data removed]",
      "text/plain": [
       "<Figure size 1080x288 with 1 Axes>"
      ]
     },
     "metadata": {
      "needs_background": "dark"
     },
     "output_type": "display_data"
    }
   ],
   "source": [
    "hist_val,hist_x = np.histogram(dataset.classes,[-0.5,0.5,1.5])\n",
    "weights  = extract_weights(hist_val,device)\n",
    "weights = weights/torch.sum(weights)\n",
    "print(\"Weights are: \",weights)\n",
    "plt.figure(figsize=(15,4))\n",
    "plt.bar(hist_x[0:len(hist_x)-1],hist_val,tick_label=[v for _,v in class_dict.items()])\n",
    "plt.title(\"Class Distribution\")"
   ]
  },
  {
   "cell_type": "code",
   "execution_count": null,
   "metadata": {
    "collapsed": false,
    "jupyter": {
     "outputs_hidden": false
    },
    "pycharm": {
     "is_executing": true,
     "name": "#%%\n"
    }
   },
   "outputs": [
    {
     "data": {
      "application/vnd.jupyter.widget-view+json": {
       "model_id": "10ccc0aefc2f40f1aa7f7a503c85e083",
       "version_major": 2,
       "version_minor": 0
      },
      "text/plain": [
       "  0%|          | 0/584716 [00:00<?, ?it/s]"
      ]
     },
     "metadata": {},
     "output_type": "display_data"
    },
    {
     "data": {
      "application/vnd.jupyter.widget-view+json": {
       "model_id": "d7ffadaaeaa94c07902c4b386b22c9e7",
       "version_major": 2,
       "version_minor": 0
      },
      "text/plain": [
       "  0%|          | 0/17386 [00:00<?, ?it/s]"
      ]
     },
     "metadata": {},
     "output_type": "display_data"
    },
    {
     "name": "stdout",
     "output_type": "stream",
     "text": [
      "Weights are:  tensor([0.3140, 0.6860], device='cuda:0')\n"
     ]
    },
    {
     "data": {
      "application/vnd.jupyter.widget-view+json": {
       "model_id": "64db04a0dfce42f885f94a746ceb1b79",
       "version_major": 2,
       "version_minor": 0
      },
      "text/plain": [
       "  0%|          | 0/3298 [00:00<?, ?it/s]"
      ]
     },
     "metadata": {},
     "output_type": "display_data"
    },
    {
     "data": {
      "application/vnd.jupyter.widget-view+json": {
       "model_id": "28c8ecdf85f0499ca84f190e3d6da765",
       "version_major": 2,
       "version_minor": 0
      },
      "text/plain": [
       "  0%|          | 0/2898 [00:00<?, ?it/s]"
      ]
     },
     "metadata": {},
     "output_type": "display_data"
    },
    {
     "name": "stdout",
     "output_type": "stream",
     "text": [
      "[ 1/15] train_loss: 0.08833 valid_loss: 3.20967 valid_acc: 35.19 %\n",
      "Validation loss decreased (inf --> 3.209668).  Saving model ...\n"
     ]
    },
    {
     "data": {
      "application/vnd.jupyter.widget-view+json": {
       "model_id": "f3620bac0cea4234b46d924285345645",
       "version_major": 2,
       "version_minor": 0
      },
      "text/plain": [
       "  0%|          | 0/3298 [00:00<?, ?it/s]"
      ]
     },
     "metadata": {},
     "output_type": "display_data"
    },
    {
     "data": {
      "application/vnd.jupyter.widget-view+json": {
       "model_id": "49a9c5176a86457f8f500cee3d12bb1b",
       "version_major": 2,
       "version_minor": 0
      },
      "text/plain": [
       "  0%|          | 0/2898 [00:00<?, ?it/s]"
      ]
     },
     "metadata": {},
     "output_type": "display_data"
    },
    {
     "name": "stdout",
     "output_type": "stream",
     "text": [
      "[ 2/15] train_loss: 0.03016 valid_loss: 3.62213 valid_acc: 42.81 %\n",
      "EarlyStopping counter: 1 out of 3\n"
     ]
    },
    {
     "data": {
      "application/vnd.jupyter.widget-view+json": {
       "model_id": "01c5fb5d199340a49db0223b250b9128",
       "version_major": 2,
       "version_minor": 0
      },
      "text/plain": [
       "  0%|          | 0/3298 [00:00<?, ?it/s]"
      ]
     },
     "metadata": {},
     "output_type": "display_data"
    },
    {
     "data": {
      "application/vnd.jupyter.widget-view+json": {
       "model_id": "f3a2696b5f634365a2c1b53c11fbed4c",
       "version_major": 2,
       "version_minor": 0
      },
      "text/plain": [
       "  0%|          | 0/2898 [00:00<?, ?it/s]"
      ]
     },
     "metadata": {},
     "output_type": "display_data"
    },
    {
     "name": "stdout",
     "output_type": "stream",
     "text": [
      "[ 3/15] train_loss: 0.02058 valid_loss: 3.46383 valid_acc: 54.86 %\n",
      "EarlyStopping counter: 2 out of 3\n"
     ]
    },
    {
     "data": {
      "application/vnd.jupyter.widget-view+json": {
       "model_id": "f38f2a642b214f1fb6bbb32199057b5e",
       "version_major": 2,
       "version_minor": 0
      },
      "text/plain": [
       "  0%|          | 0/3298 [00:00<?, ?it/s]"
      ]
     },
     "metadata": {},
     "output_type": "display_data"
    },
    {
     "data": {
      "application/vnd.jupyter.widget-view+json": {
       "model_id": "4966ac02b2964e2d86232e2f97e79ac9",
       "version_major": 2,
       "version_minor": 0
      },
      "text/plain": [
       "  0%|          | 0/2898 [00:00<?, ?it/s]"
      ]
     },
     "metadata": {},
     "output_type": "display_data"
    },
    {
     "name": "stdout",
     "output_type": "stream",
     "text": [
      "[ 4/15] train_loss: 0.01528 valid_loss: 2.56537 valid_acc: 56.82 %\n",
      "Validation loss decreased (3.209668 --> 2.565370).  Saving model ...\n"
     ]
    },
    {
     "data": {
      "application/vnd.jupyter.widget-view+json": {
       "model_id": "a3f2f6d87e8d49529a1854ec16ce8242",
       "version_major": 2,
       "version_minor": 0
      },
      "text/plain": [
       "  0%|          | 0/3298 [00:00<?, ?it/s]"
      ]
     },
     "metadata": {},
     "output_type": "display_data"
    },
    {
     "data": {
      "application/vnd.jupyter.widget-view+json": {
       "model_id": "d8dcbd90506a4ac8acf1cea64fa8b462",
       "version_major": 2,
       "version_minor": 0
      },
      "text/plain": [
       "  0%|          | 0/2898 [00:00<?, ?it/s]"
      ]
     },
     "metadata": {},
     "output_type": "display_data"
    },
    {
     "name": "stdout",
     "output_type": "stream",
     "text": [
      "[ 5/15] train_loss: 0.01282 valid_loss: 4.99760 valid_acc: 43.43 %\n",
      "EarlyStopping counter: 1 out of 3\n"
     ]
    },
    {
     "data": {
      "application/vnd.jupyter.widget-view+json": {
       "model_id": "11efc62f51e84149af40271d9592208d",
       "version_major": 2,
       "version_minor": 0
      },
      "text/plain": [
       "  0%|          | 0/3298 [00:00<?, ?it/s]"
      ]
     },
     "metadata": {},
     "output_type": "display_data"
    },
    {
     "data": {
      "application/vnd.jupyter.widget-view+json": {
       "model_id": "f1527823f7d74fe78127045e7f674e80",
       "version_major": 2,
       "version_minor": 0
      },
      "text/plain": [
       "  0%|          | 0/2898 [00:00<?, ?it/s]"
      ]
     },
     "metadata": {},
     "output_type": "display_data"
    },
    {
     "name": "stdout",
     "output_type": "stream",
     "text": [
      "[ 6/15] train_loss: 0.01017 valid_loss: 2.66015 valid_acc: 62.13 %\n",
      "EarlyStopping counter: 2 out of 3\n"
     ]
    },
    {
     "data": {
      "application/vnd.jupyter.widget-view+json": {
       "model_id": "21eab9a5c2a74cb8bc99047f2bcc35c7",
       "version_major": 2,
       "version_minor": 0
      },
      "text/plain": [
       "  0%|          | 0/3298 [00:00<?, ?it/s]"
      ]
     },
     "metadata": {},
     "output_type": "display_data"
    },
    {
     "data": {
      "application/vnd.jupyter.widget-view+json": {
       "model_id": "3d91eeee9d7b493483e57d76ababd2bb",
       "version_major": 2,
       "version_minor": 0
      },
      "text/plain": [
       "  0%|          | 0/2898 [00:00<?, ?it/s]"
      ]
     },
     "metadata": {},
     "output_type": "display_data"
    },
    {
     "name": "stdout",
     "output_type": "stream",
     "text": [
      "[ 7/15] train_loss: 0.00879 valid_loss: 3.43391 valid_acc: 49.59 %\n",
      "EarlyStopping counter: 3 out of 3\n",
      "Early stopping\n"
     ]
    },
    {
     "data": {
      "application/vnd.jupyter.widget-view+json": {
       "model_id": "7ad02ab0a0fd4283a22d0fac60c4801f",
       "version_major": 2,
       "version_minor": 0
      },
      "text/plain": [
       "  0%|          | 0/2941 [00:00<?, ?it/s]"
      ]
     },
     "metadata": {},
     "output_type": "display_data"
    },
    {
     "data": {
      "application/vnd.jupyter.widget-view+json": {
       "model_id": "397c9eaf3c124c51bc8543be7d53f9fe",
       "version_major": 2,
       "version_minor": 0
      },
      "text/plain": [
       "  0%|          | 0/665 [00:00<?, ?it/s]"
      ]
     },
     "metadata": {},
     "output_type": "display_data"
    },
    {
     "name": "stdout",
     "output_type": "stream",
     "text": [
      "0-FOLD with 865163\t38940\t10439\t73643\t0.7376\t0.7580\t0.7252\t0.6259\t0.8619\t0.6541\t\n"
     ]
    },
    {
     "data": {
      "application/vnd.jupyter.widget-view+json": {
       "model_id": "baf6e8b6b9a54f8887fff990068fb3a1",
       "version_major": 2,
       "version_minor": 0
      },
      "text/plain": [
       "  0%|          | 0/3726 [00:00<?, ?it/s]"
      ]
     },
     "metadata": {},
     "output_type": "display_data"
    },
    {
     "data": {
      "application/vnd.jupyter.widget-view+json": {
       "model_id": "2ac6e95ba07c45c88a6966c23c6fe930",
       "version_major": 2,
       "version_minor": 0
      },
      "text/plain": [
       "  0%|          | 0/2898 [00:00<?, ?it/s]"
      ]
     },
     "metadata": {},
     "output_type": "display_data"
    },
    {
     "name": "stdout",
     "output_type": "stream",
     "text": [
      "[ 1/15] train_loss: 0.08496 valid_loss: 1.52389 valid_acc: 66.24 %\n",
      "Validation loss decreased (inf --> 1.523887).  Saving model ...\n"
     ]
    },
    {
     "data": {
      "application/vnd.jupyter.widget-view+json": {
       "model_id": "1aa0cdfe546c4f9d9a19c585196d7a59",
       "version_major": 2,
       "version_minor": 0
      },
      "text/plain": [
       "  0%|          | 0/3726 [00:00<?, ?it/s]"
      ]
     },
     "metadata": {},
     "output_type": "display_data"
    },
    {
     "data": {
      "application/vnd.jupyter.widget-view+json": {
       "model_id": "02034d3bd5534b42b5694f0d83a56c88",
       "version_major": 2,
       "version_minor": 0
      },
      "text/plain": [
       "  0%|          | 0/2898 [00:00<?, ?it/s]"
      ]
     },
     "metadata": {},
     "output_type": "display_data"
    },
    {
     "name": "stdout",
     "output_type": "stream",
     "text": [
      "[ 2/15] train_loss: 0.03082 valid_loss: 1.84238 valid_acc: 66.15 %\n",
      "EarlyStopping counter: 1 out of 3\n"
     ]
    },
    {
     "data": {
      "application/vnd.jupyter.widget-view+json": {
       "model_id": "4d7c67238b3041a883fb50e596431fa4",
       "version_major": 2,
       "version_minor": 0
      },
      "text/plain": [
       "  0%|          | 0/3726 [00:00<?, ?it/s]"
      ]
     },
     "metadata": {},
     "output_type": "display_data"
    },
    {
     "data": {
      "application/vnd.jupyter.widget-view+json": {
       "model_id": "d638eaa601ed498691d0ba4ddb0aeb60",
       "version_major": 2,
       "version_minor": 0
      },
      "text/plain": [
       "  0%|          | 0/2898 [00:00<?, ?it/s]"
      ]
     },
     "metadata": {},
     "output_type": "display_data"
    },
    {
     "name": "stdout",
     "output_type": "stream",
     "text": [
      "[ 3/15] train_loss: 0.02130 valid_loss: 2.33246 valid_acc: 59.14 %\n",
      "EarlyStopping counter: 2 out of 3\n"
     ]
    },
    {
     "data": {
      "application/vnd.jupyter.widget-view+json": {
       "model_id": "d4544653770041a9873bcd5745a7e344",
       "version_major": 2,
       "version_minor": 0
      },
      "text/plain": [
       "  0%|          | 0/3726 [00:00<?, ?it/s]"
      ]
     },
     "metadata": {},
     "output_type": "display_data"
    },
    {
     "data": {
      "application/vnd.jupyter.widget-view+json": {
       "model_id": "0c8b8c27afc948479765a1bc1b6055f0",
       "version_major": 2,
       "version_minor": 0
      },
      "text/plain": [
       "  0%|          | 0/2898 [00:00<?, ?it/s]"
      ]
     },
     "metadata": {},
     "output_type": "display_data"
    },
    {
     "name": "stdout",
     "output_type": "stream",
     "text": [
      "[ 4/15] train_loss: 0.01651 valid_loss: 1.53333 valid_acc: 67.20 %\n",
      "EarlyStopping counter: 3 out of 3\n",
      "Early stopping\n"
     ]
    },
    {
     "data": {
      "application/vnd.jupyter.widget-view+json": {
       "model_id": "4fbb1c70758042b2a6a4925895e02415",
       "version_major": 2,
       "version_minor": 0
      },
      "text/plain": [
       "  0%|          | 0/2513 [00:00<?, ?it/s]"
      ]
     },
     "metadata": {},
     "output_type": "display_data"
    },
    {
     "data": {
      "application/vnd.jupyter.widget-view+json": {
       "model_id": "fd240d28391040ca9587fd9a69a24651",
       "version_major": 2,
       "version_minor": 0
      },
      "text/plain": [
       "  0%|          | 0/620 [00:00<?, ?it/s]"
      ]
     },
     "metadata": {},
     "output_type": "display_data"
    },
    {
     "name": "stdout",
     "output_type": "stream",
     "text": [
      "1-FOLD with 854409\t52068\t9083\t45244\t0.6197\t0.6609\t0.6402\t0.5110\t0.8569\t0.4649\t\n"
     ]
    },
    {
     "data": {
      "application/vnd.jupyter.widget-view+json": {
       "model_id": "92194256f2804f6b9b54444f5b885faa",
       "version_major": 2,
       "version_minor": 0
      },
      "text/plain": [
       "  0%|          | 0/3457 [00:00<?, ?it/s]"
      ]
     },
     "metadata": {},
     "output_type": "display_data"
    },
    {
     "data": {
      "application/vnd.jupyter.widget-view+json": {
       "model_id": "c191f6e7594e48b5b9f78f14170cbf29",
       "version_major": 2,
       "version_minor": 0
      },
      "text/plain": [
       "  0%|          | 0/1997 [00:00<?, ?it/s]"
      ]
     },
     "metadata": {},
     "output_type": "display_data"
    },
    {
     "name": "stdout",
     "output_type": "stream",
     "text": [
      "[ 1/15] train_loss: 0.10287 valid_loss: 1.49681 valid_acc: 67.77 %\n",
      "Validation loss decreased (inf --> 1.496810).  Saving model ...\n"
     ]
    },
    {
     "data": {
      "application/vnd.jupyter.widget-view+json": {
       "model_id": "484c1ef7597545d792a052b768325224",
       "version_major": 2,
       "version_minor": 0
      },
      "text/plain": [
       "  0%|          | 0/3457 [00:00<?, ?it/s]"
      ]
     },
     "metadata": {},
     "output_type": "display_data"
    },
    {
     "data": {
      "application/vnd.jupyter.widget-view+json": {
       "model_id": "f816d3004f8a4f0a8b60a30c50dd5a93",
       "version_major": 2,
       "version_minor": 0
      },
      "text/plain": [
       "  0%|          | 0/1997 [00:00<?, ?it/s]"
      ]
     },
     "metadata": {},
     "output_type": "display_data"
    },
    {
     "name": "stdout",
     "output_type": "stream",
     "text": [
      "[ 2/15] train_loss: 0.03841 valid_loss: 1.85628 valid_acc: 73.63 %\n",
      "EarlyStopping counter: 1 out of 3\n"
     ]
    },
    {
     "data": {
      "application/vnd.jupyter.widget-view+json": {
       "model_id": "203717c36bfe4daf821173bb87efaccd",
       "version_major": 2,
       "version_minor": 0
      },
      "text/plain": [
       "  0%|          | 0/3457 [00:00<?, ?it/s]"
      ]
     },
     "metadata": {},
     "output_type": "display_data"
    },
    {
     "data": {
      "application/vnd.jupyter.widget-view+json": {
       "model_id": "7be679a02f3f41d7be1116b8deb45dfc",
       "version_major": 2,
       "version_minor": 0
      },
      "text/plain": [
       "  0%|          | 0/1997 [00:00<?, ?it/s]"
      ]
     },
     "metadata": {},
     "output_type": "display_data"
    },
    {
     "name": "stdout",
     "output_type": "stream",
     "text": [
      "[ 3/15] train_loss: 0.02509 valid_loss: 1.60478 valid_acc: 69.91 %\n",
      "EarlyStopping counter: 2 out of 3\n"
     ]
    },
    {
     "data": {
      "application/vnd.jupyter.widget-view+json": {
       "model_id": "bccd61fc3bcb47b9bd4c4d1af2f5f1e9",
       "version_major": 2,
       "version_minor": 0
      },
      "text/plain": [
       "  0%|          | 0/3457 [00:00<?, ?it/s]"
      ]
     },
     "metadata": {},
     "output_type": "display_data"
    },
    {
     "data": {
      "application/vnd.jupyter.widget-view+json": {
       "model_id": "dd994801ed72470f9741a8baa740da76",
       "version_major": 2,
       "version_minor": 0
      },
      "text/plain": [
       "  0%|          | 0/1997 [00:00<?, ?it/s]"
      ]
     },
     "metadata": {},
     "output_type": "display_data"
    },
    {
     "name": "stdout",
     "output_type": "stream",
     "text": [
      "[ 4/15] train_loss: 0.01848 valid_loss: 1.78648 valid_acc: 74.13 %\n",
      "EarlyStopping counter: 3 out of 3\n",
      "Early stopping\n"
     ]
    },
    {
     "data": {
      "application/vnd.jupyter.widget-view+json": {
       "model_id": "416eaef908b94ceeaed53039493e9751",
       "version_major": 2,
       "version_minor": 0
      },
      "text/plain": [
       "  0%|          | 0/3684 [00:00<?, ?it/s]"
      ]
     },
     "metadata": {},
     "output_type": "display_data"
    },
    {
     "data": {
      "application/vnd.jupyter.widget-view+json": {
       "model_id": "b3e9fdb017f548d3b419f9a1269492d9",
       "version_major": 2,
       "version_minor": 0
      },
      "text/plain": [
       "  0%|          | 0/841 [00:00<?, ?it/s]"
      ]
     },
     "metadata": {},
     "output_type": "display_data"
    },
    {
     "name": "stdout",
     "output_type": "stream",
     "text": [
      "2-FOLD with 868040\t128439\t4308\t34940\t0.4369\t0.5772\t0.5062\t0.3463\t0.9405\t0.2139\t\n"
     ]
    },
    {
     "data": {
      "application/vnd.jupyter.widget-view+json": {
       "model_id": "60b89f266a764c80b5adc769ac242f42",
       "version_major": 2,
       "version_minor": 0
      },
      "text/plain": [
       "  0%|          | 0/3243 [00:00<?, ?it/s]"
      ]
     },
     "metadata": {},
     "output_type": "display_data"
    },
    {
     "data": {
      "application/vnd.jupyter.widget-view+json": {
       "model_id": "bf606fad38014dca8897f75c8ba27662",
       "version_major": 2,
       "version_minor": 0
      },
      "text/plain": [
       "  0%|          | 0/1726 [00:00<?, ?it/s]"
      ]
     },
     "metadata": {},
     "output_type": "display_data"
    },
    {
     "name": "stdout",
     "output_type": "stream",
     "text": [
      "[ 1/15] train_loss: 0.08142 valid_loss: 1.29854 valid_acc: 68.91 %\n",
      "Validation loss decreased (inf --> 1.298542).  Saving model ...\n"
     ]
    },
    {
     "data": {
      "application/vnd.jupyter.widget-view+json": {
       "model_id": "37dd1e62b8ae4af3859cfeecaa409a7f",
       "version_major": 2,
       "version_minor": 0
      },
      "text/plain": [
       "  0%|          | 0/3243 [00:00<?, ?it/s]"
      ]
     },
     "metadata": {},
     "output_type": "display_data"
    },
    {
     "data": {
      "application/vnd.jupyter.widget-view+json": {
       "model_id": "0bb06e9039a4450f929a259655d2c63c",
       "version_major": 2,
       "version_minor": 0
      },
      "text/plain": [
       "  0%|          | 0/1726 [00:00<?, ?it/s]"
      ]
     },
     "metadata": {},
     "output_type": "display_data"
    },
    {
     "name": "stdout",
     "output_type": "stream",
     "text": [
      "[ 2/15] train_loss: 0.03101 valid_loss: 1.60146 valid_acc: 65.75 %\n",
      "EarlyStopping counter: 1 out of 3\n"
     ]
    },
    {
     "data": {
      "application/vnd.jupyter.widget-view+json": {
       "model_id": "ecea91da223b405694cce505722dd482",
       "version_major": 2,
       "version_minor": 0
      },
      "text/plain": [
       "  0%|          | 0/3243 [00:00<?, ?it/s]"
      ]
     },
     "metadata": {},
     "output_type": "display_data"
    },
    {
     "data": {
      "application/vnd.jupyter.widget-view+json": {
       "model_id": "2e6ee586c42345ebab69f15423661f39",
       "version_major": 2,
       "version_minor": 0
      },
      "text/plain": [
       "  0%|          | 0/1726 [00:00<?, ?it/s]"
      ]
     },
     "metadata": {},
     "output_type": "display_data"
    },
    {
     "name": "stdout",
     "output_type": "stream",
     "text": [
      "[ 3/15] train_loss: 0.02049 valid_loss: 2.85220 valid_acc: 58.63 %\n",
      "EarlyStopping counter: 2 out of 3\n"
     ]
    },
    {
     "data": {
      "application/vnd.jupyter.widget-view+json": {
       "model_id": "97a3a29f17704213a2991c01cb3bd691",
       "version_major": 2,
       "version_minor": 0
      },
      "text/plain": [
       "  0%|          | 0/3243 [00:00<?, ?it/s]"
      ]
     },
     "metadata": {},
     "output_type": "display_data"
    },
    {
     "data": {
      "application/vnd.jupyter.widget-view+json": {
       "model_id": "80279a4e28214d558a8e5a6e1afe8df0",
       "version_major": 2,
       "version_minor": 0
      },
      "text/plain": [
       "  0%|          | 0/1726 [00:00<?, ?it/s]"
      ]
     },
     "metadata": {},
     "output_type": "display_data"
    },
    {
     "name": "stdout",
     "output_type": "stream",
     "text": [
      "[ 4/15] train_loss: 0.01491 valid_loss: 2.31961 valid_acc: 62.86 %\n",
      "EarlyStopping counter: 3 out of 3\n",
      "Early stopping\n"
     ]
    },
    {
     "data": {
      "application/vnd.jupyter.widget-view+json": {
       "model_id": "395a12e2146747e6a34bade309ca2b6b",
       "version_major": 2,
       "version_minor": 0
      },
      "text/plain": [
       "  0%|          | 0/4168 [00:00<?, ?it/s]"
      ]
     },
     "metadata": {},
     "output_type": "display_data"
    },
    {
     "data": {
      "application/vnd.jupyter.widget-view+json": {
       "model_id": "715f95b0cf1f43e89bd1ce12e10e66f7",
       "version_major": 2,
       "version_minor": 0
      },
      "text/plain": [
       "  0%|          | 0/895 [00:00<?, ?it/s]"
      ]
     },
     "metadata": {},
     "output_type": "display_data"
    },
    {
     "name": "stdout",
     "output_type": "stream",
     "text": [
      "0-FOLD with 866445\t59713\t18854\t121724\t0.7055\t0.7249\t0.6284\t0.5267\t0.7790\t0.6709\t\n"
     ]
    },
    {
     "data": {
      "application/vnd.jupyter.widget-view+json": {
       "model_id": "d6d710f252c74b03b85e2d9fd3a890fe",
       "version_major": 2,
       "version_minor": 0
      },
      "text/plain": [
       "  0%|          | 0/4610 [00:00<?, ?it/s]"
      ]
     },
     "metadata": {},
     "output_type": "display_data"
    },
    {
     "data": {
      "application/vnd.jupyter.widget-view+json": {
       "model_id": "c41f21ed1f644fdf9de82889eb8e863d",
       "version_major": 2,
       "version_minor": 0
      },
      "text/plain": [
       "  0%|          | 0/1726 [00:00<?, ?it/s]"
      ]
     },
     "metadata": {},
     "output_type": "display_data"
    },
    {
     "name": "stdout",
     "output_type": "stream",
     "text": [
      "[ 1/15] train_loss: 0.09427 valid_loss: 1.17336 valid_acc: 71.51 %\n",
      "Validation loss decreased (inf --> 1.173356).  Saving model ...\n"
     ]
    },
    {
     "data": {
      "application/vnd.jupyter.widget-view+json": {
       "model_id": "242cdbb611a1425d91cb80288229993f",
       "version_major": 2,
       "version_minor": 0
      },
      "text/plain": [
       "  0%|          | 0/4610 [00:00<?, ?it/s]"
      ]
     },
     "metadata": {},
     "output_type": "display_data"
    },
    {
     "data": {
      "application/vnd.jupyter.widget-view+json": {
       "model_id": "17a3156199d6493799f0b06324bb8461",
       "version_major": 2,
       "version_minor": 0
      },
      "text/plain": [
       "  0%|          | 0/1726 [00:00<?, ?it/s]"
      ]
     },
     "metadata": {},
     "output_type": "display_data"
    },
    {
     "name": "stdout",
     "output_type": "stream",
     "text": [
      "[ 2/15] train_loss: 0.03136 valid_loss: 0.89453 valid_acc: 76.38 %\n",
      "Validation loss decreased (1.173356 --> 0.894527).  Saving model ...\n"
     ]
    },
    {
     "data": {
      "application/vnd.jupyter.widget-view+json": {
       "model_id": "cc058bfd87d341b883c832d3a873b1cc",
       "version_major": 2,
       "version_minor": 0
      },
      "text/plain": [
       "  0%|          | 0/4610 [00:00<?, ?it/s]"
      ]
     },
     "metadata": {},
     "output_type": "display_data"
    },
    {
     "data": {
      "application/vnd.jupyter.widget-view+json": {
       "model_id": "15df819161624c15a2a96a14ebaa00be",
       "version_major": 2,
       "version_minor": 0
      },
      "text/plain": [
       "  0%|          | 0/1726 [00:00<?, ?it/s]"
      ]
     },
     "metadata": {},
     "output_type": "display_data"
    },
    {
     "name": "stdout",
     "output_type": "stream",
     "text": [
      "[ 3/15] train_loss: 0.02017 valid_loss: 1.05782 valid_acc: 75.71 %\n",
      "EarlyStopping counter: 1 out of 3\n"
     ]
    },
    {
     "data": {
      "application/vnd.jupyter.widget-view+json": {
       "model_id": "b374497e2f4e4b45a0f9f99364e55c45",
       "version_major": 2,
       "version_minor": 0
      },
      "text/plain": [
       "  0%|          | 0/4610 [00:00<?, ?it/s]"
      ]
     },
     "metadata": {},
     "output_type": "display_data"
    },
    {
     "data": {
      "application/vnd.jupyter.widget-view+json": {
       "model_id": "d089799adbe44051b6c8f378800de307",
       "version_major": 2,
       "version_minor": 0
      },
      "text/plain": [
       "  0%|          | 0/1726 [00:00<?, ?it/s]"
      ]
     },
     "metadata": {},
     "output_type": "display_data"
    },
    {
     "name": "stdout",
     "output_type": "stream",
     "text": [
      "[ 4/15] train_loss: 0.01550 valid_loss: 1.43302 valid_acc: 69.03 %\n",
      "EarlyStopping counter: 2 out of 3\n"
     ]
    },
    {
     "data": {
      "application/vnd.jupyter.widget-view+json": {
       "model_id": "7f10be382a784666b01a410a19bc0d6e",
       "version_major": 2,
       "version_minor": 0
      },
      "text/plain": [
       "  0%|          | 0/4610 [00:00<?, ?it/s]"
      ]
     },
     "metadata": {},
     "output_type": "display_data"
    },
    {
     "data": {
      "application/vnd.jupyter.widget-view+json": {
       "model_id": "05f3f136215b4e68986f22e1ca8c593d",
       "version_major": 2,
       "version_minor": 0
      },
      "text/plain": [
       "  0%|          | 0/1726 [00:00<?, ?it/s]"
      ]
     },
     "metadata": {},
     "output_type": "display_data"
    },
    {
     "name": "stdout",
     "output_type": "stream",
     "text": [
      "[ 5/15] train_loss: 0.01249 valid_loss: 1.14086 valid_acc: 76.44 %\n",
      "EarlyStopping counter: 3 out of 3\n",
      "Early stopping\n"
     ]
    },
    {
     "data": {
      "application/vnd.jupyter.widget-view+json": {
       "model_id": "c40c9f9a52f6435fa3767edbce60c059",
       "version_major": 2,
       "version_minor": 0
      },
      "text/plain": [
       "  0%|          | 0/2801 [00:00<?, ?it/s]"
      ]
     },
     "metadata": {},
     "output_type": "display_data"
    },
    {
     "data": {
      "application/vnd.jupyter.widget-view+json": {
       "model_id": "7911a7e4882747c68eff9de83bbe7860",
       "version_major": 2,
       "version_minor": 0
      },
      "text/plain": [
       "  0%|          | 0/665 [00:00<?, ?it/s]"
      ]
     },
     "metadata": {},
     "output_type": "display_data"
    },
    {
     "name": "stdout",
     "output_type": "stream",
     "text": [
      "1-FOLD with 856715\t22611\t24831\t75089\t0.7353\t0.7320\t0.7051\t0.7150\t0.6955\t0.7686\t\n"
     ]
    },
    {
     "data": {
      "application/vnd.jupyter.widget-view+json": {
       "model_id": "27ed07819d91408688f712be73361f20",
       "version_major": 2,
       "version_minor": 0
      },
      "text/plain": [
       "  0%|          | 0/4771 [00:00<?, ?it/s]"
      ]
     },
     "metadata": {},
     "output_type": "display_data"
    },
    {
     "data": {
      "application/vnd.jupyter.widget-view+json": {
       "model_id": "9c3e1eddd65b42678195f239ce267a9b",
       "version_major": 2,
       "version_minor": 0
      },
      "text/plain": [
       "  0%|          | 0/2198 [00:00<?, ?it/s]"
      ]
     },
     "metadata": {},
     "output_type": "display_data"
    },
    {
     "name": "stdout",
     "output_type": "stream",
     "text": [
      "[ 1/15] train_loss: 0.10816 valid_loss: 1.42209 valid_acc: 62.77 %\n",
      "Validation loss decreased (inf --> 1.422089).  Saving model ...\n"
     ]
    },
    {
     "data": {
      "application/vnd.jupyter.widget-view+json": {
       "model_id": "af44bd9a455d45d9869b843b09de73d1",
       "version_major": 2,
       "version_minor": 0
      },
      "text/plain": [
       "  0%|          | 0/4771 [00:00<?, ?it/s]"
      ]
     },
     "metadata": {},
     "output_type": "display_data"
    },
    {
     "data": {
      "application/vnd.jupyter.widget-view+json": {
       "model_id": "a2d9e6b0896e424da346786617ecf69e",
       "version_major": 2,
       "version_minor": 0
      },
      "text/plain": [
       "  0%|          | 0/2198 [00:00<?, ?it/s]"
      ]
     },
     "metadata": {},
     "output_type": "display_data"
    },
    {
     "name": "stdout",
     "output_type": "stream",
     "text": [
      "[ 2/15] train_loss: 0.03499 valid_loss: 2.31568 valid_acc: 59.20 %\n",
      "EarlyStopping counter: 1 out of 3\n"
     ]
    },
    {
     "data": {
      "application/vnd.jupyter.widget-view+json": {
       "model_id": "d6bf3ca410714c7387bdf043098e6f76",
       "version_major": 2,
       "version_minor": 0
      },
      "text/plain": [
       "  0%|          | 0/4771 [00:00<?, ?it/s]"
      ]
     },
     "metadata": {},
     "output_type": "display_data"
    },
    {
     "data": {
      "application/vnd.jupyter.widget-view+json": {
       "model_id": "30ae5be97a2e4f459ce5df9163b2d8c5",
       "version_major": 2,
       "version_minor": 0
      },
      "text/plain": [
       "  0%|          | 0/2198 [00:00<?, ?it/s]"
      ]
     },
     "metadata": {},
     "output_type": "display_data"
    }
   ],
   "source": [
    "epochs = 15\n",
    "correction = (0, 0,  0)\n",
    "nofs = [8,128]\n",
    "steps = [8, 8, 8] \n",
    "K=3\n",
    "repetition_count = 10\n",
    "\n",
    "for number_of_frames,step in zip(nofs,steps):\n",
    "    dataset = MModeDataset(root_fp =\"/home/jin/Documents/miro/data/base_dataset/mmode\",number_of_frames=number_of_frames,transform=transform)\n",
    "    dataset_test = DataGenDataset(root_fp =\"/home/jin/Documents/miro/data/base_dataset/\",number_of_frames=number_of_frames, step = step,load2ram=True)\n",
    "    \n",
    "    weights  = extract_weights(hist_val,device)\n",
    "    weights = weights/torch.sum(weights)\n",
    "    print(\"Weights are: \",weights)\n",
    "    for repetition in range(repetition_count):\n",
    "        splits, test_ids = create_K_fold_unqique_idents(dataset=dataset,training2valid_ratio=0.6, K=K)\n",
    "        for idx in range(K):\n",
    "\n",
    "            model = torchvision.models.resnet18(pretrained=True)\n",
    "            num_ftrs = model.fc.in_features\n",
    "\n",
    "            model.fc = nn.Sequential(\n",
    "                nn.Dropout(0.5),\n",
    "                nn.Linear(num_ftrs, 2)\n",
    "            )\n",
    "\n",
    "            #model = Net()\n",
    "            model = model.cuda(device)\n",
    "            #model = nn.DataParallel(model, device_ids=None)\n",
    "\n",
    "            optimizer = torch.optim.Adam(model.parameters(),\n",
    "                                     lr=0.001)\n",
    "\n",
    "            train_ds, valid_ds, test_ds = create_subsets_for_K(dataset,splits,K_n=idx)\n",
    "\n",
    "            train_loader = DataLoader(train_ds, batch_size=batch_size, shuffle=True)\n",
    "            valid_loader = DataLoader(valid_ds, batch_size=batch_size, shuffle=False)\n",
    "            test_loader = DataLoader(test_ds, batch_size=batch_size, shuffle=False)\n",
    "\n",
    "            criterion = torch.nn.CrossEntropyLoss(weight=weights)\n",
    "            dataset.transform = transform\n",
    "\n",
    "            train_loss, valid_loss,batch_train_losses, batch_valid_losses, model = train(model,\n",
    "                                                                                        epochs,\n",
    "                                                                                        train_loader=train_loader,\n",
    "                                                                                        valid_loader=valid_loader,\n",
    "                                                                                        criterion=criterion,\n",
    "                                                                                        optimizer=optimizer,\n",
    "                                                                                        early_stop_count=3,\n",
    "                                                                                        identifier = \"net_{}.pth\".format(number_of_frames))\n",
    "            dataset.transform = min_transform\n",
    "            \n",
    "            identifiers,y_gts,y_preds = get_test_output(model, test_loader=test_loader,identifier=str(number_of_frames))\n",
    "            \n",
    "            identifiers2,y_gts2,y_preds2  = evaluate_on_slices_with_correction(model,dataset_test,return_ids_from_filepaths(test_ids[idx]),correction)\n",
    "        \n",
    "            print(\"{}-FOLD with {}\".format(idx,number_of_frames) + return_string_metrics( y_gts,y_preds))\n",
    "            fh = open(\"data/log_final_10x3_1.txt\",\"a\")\n",
    "            fh.write(str(\"{}\\t{}\\t{}\\t{}{}{}{}\\n\".format(repetition,\n",
    "                                                           idx, \n",
    "                                                           number_of_frames, \n",
    "                                                           return_string_metrics(y_gts,y_preds), \n",
    "                                                           return_aggregated_metrics(identifiers,y_gts,y_preds),\n",
    "                                                           return_string_metrics(y_gts2,y_preds2), \n",
    "                                                           return_aggregated_metrics(identifiers2,y_gts2,y_preds2))))\n",
    "            fh.close()\n"
   ]
  },
  {
   "cell_type": "code",
   "execution_count": null,
   "metadata": {},
   "outputs": [],
   "source": [
    "finalconv_name = 'layer4'\n",
    "\n",
    "#print(model._modules)\n",
    "\n",
    "final_layer = model._modules.get(finalconv_name)\n",
    "\n",
    "\n",
    "class SaveFeatures():\n",
    "    features=None\n",
    "    \n",
    "    def __init__(self, m): \n",
    "        self.hook = m.register_forward_hook(self.hook_fn)\n",
    "        \n",
    "    def hook_fn(self, module, input, output): \n",
    "        self.features = ((output.cpu()).data).numpy()\n",
    "        \n",
    "    def remove(self): self.hook.remove()\n",
    "\n",
    "\n",
    "def getCAM(feature_conv, weight_fc, class_idx):\n",
    "    _, nc, h, w = feature_conv.shape\n",
    "    cam = weight_fc[class_idx].dot(feature_conv.reshape((nc, h*w)))\n",
    "    cam = cam.reshape(h, w)\n",
    "    cam = cam - np.min(cam)\n",
    "    cam_img = cam / np.max(cam)\n",
    "    return [cam_img]\n",
    "\n",
    "fig, axs = plt.subplots(10, 3,figsize=(15,100))\n",
    "samples = np.random.randint(0,len(dataset),10)\n",
    "\n",
    "for i in range(10):\n",
    "    activated_features = SaveFeatures(final_layer)\n",
    "\n",
    "    sample,class_out, identifier,_ = dataset.__getitem__(samples[i])\n",
    "\n",
    "    prediction = model(torch.unsqueeze(sample,0).cuda(device))\n",
    "\n",
    "    pred_probabilities = F.softmax(prediction, dim=1).data.squeeze()\n",
    "\n",
    "    activated_features.remove()\n",
    "    weight_softmax_params = list(model._modules.get('fc').parameters())\n",
    "\n",
    "    weight_softmax = np.squeeze(weight_softmax_params[0].cpu().data.numpy())\n",
    "    weight_softmax_params\n",
    "    zz = np.where(pred_probabilities.cpu().numpy() == np.max(pred_probabilities.detach().cpu().numpy()))\n",
    "    overlay = getCAM(activated_features.features, weight_softmax, zz)\n",
    "    axs[i,0].imshow(sample[0,...])\n",
    "    im = axs[i,1].imshow(overlay[0], cmap='plasma')\n",
    "    cbar = fig.colorbar(im, extend='both', spacing='proportional',\n",
    "                    shrink=0.9, ax=axs[i,1])\n",
    "    axs[i,0].set_title(\"{}\".format(class_dict[int(class_out)]))\n",
    "    \n",
    "    if class_out==zz[0]:\n",
    "        axs[i,1].set_title(\"{} {}\".format(\"Correct\", identifier.split('/')[-1]))\n",
    "    else:\n",
    "        axs[i,1].set_title(\"{} {}\".format(\"Missclasified\", identifier.split('/')[-1]))\n",
    "    axs[i,2].imshow(overlay[0]>0.75)\n",
    "\n"
   ]
  },
  {
   "cell_type": "code",
   "execution_count": null,
   "metadata": {},
   "outputs": [],
   "source": []
  },
  {
   "cell_type": "code",
   "execution_count": null,
   "metadata": {},
   "outputs": [],
   "source": []
  },
  {
   "cell_type": "code",
   "execution_count": null,
   "metadata": {},
   "outputs": [],
   "source": []
  }
 ],
 "metadata": {
  "kernelspec": {
   "display_name": "Python 3",
   "language": "python",
   "name": "python3"
  },
  "language_info": {
   "codemirror_mode": {
    "name": "ipython",
    "version": 3
   },
   "file_extension": ".py",
   "mimetype": "text/x-python",
   "name": "python",
   "nbconvert_exporter": "python",
   "pygments_lexer": "ipython3",
   "version": "3.7.10"
  }
 },
 "nbformat": 4,
 "nbformat_minor": 4
}
